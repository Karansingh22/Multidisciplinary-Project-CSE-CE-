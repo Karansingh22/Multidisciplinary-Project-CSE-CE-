{
 "cells": [
  {
   "cell_type": "code",
   "execution_count": 1,
   "id": "a17dbd81",
   "metadata": {},
   "outputs": [
    {
     "name": "stdout",
     "output_type": "stream",
     "text": [
      "    SeNo  Cement   Sand  Aggregate  Total Weight    water Unit  final Weight  \\\n",
      "0      1       1    1.5          3           5.5    1.375   kg         6.875   \n",
      "1      2       2    3.0          6          11.0    2.750   kg        13.750   \n",
      "2      3       3    4.5          9          16.5    4.125   kg        20.625   \n",
      "3      4       4    6.0         12          22.0    5.500   kg        27.500   \n",
      "4      5       5    7.5         15          27.5    6.875   kg        34.375   \n",
      "..   ...     ...    ...        ...           ...      ...  ...           ...   \n",
      "94    96      96  144.0        288         528.0  132.000   kg       660.000   \n",
      "95    97      97  145.5        291         533.5  133.375   kg       666.875   \n",
      "96    98      98  147.0        294         539.0  134.750   kg       673.750   \n",
      "97    99      99  148.5        297         544.5  136.125   kg       680.625   \n",
      "98   100     100  150.0        300         550.0  137.500   kg       687.500   \n",
      "\n",
      "    time  rotation  \n",
      "0    2.5      60.0  \n",
      "1    3.0      72.0  \n",
      "2    3.5      84.0  \n",
      "3    4.0      96.0  \n",
      "4    4.0      96.0  \n",
      "..   ...       ...  \n",
      "94  26.0     624.0  \n",
      "95  26.0     624.0  \n",
      "96  26.0     624.0  \n",
      "97  26.0     624.0  \n",
      "98  26.0     624.0  \n",
      "\n",
      "[99 rows x 10 columns]\n"
     ]
    }
   ],
   "source": [
    "import pandas as pd\n",
    "import numpy as np\n",
    "\n",
    "d = pd.read_csv(\"dataset_for_concrete_machine.csv\") \n",
    "print(d)"
   ]
  },
  {
   "cell_type": "code",
   "execution_count": 4,
   "id": "12d44bd6",
   "metadata": {},
   "outputs": [],
   "source": [
    "d['Unit']=d['Unit'].astype('category')\n",
    "d['Unit']=d['Unit'].cat.codes"
   ]
  },
  {
   "cell_type": "code",
   "execution_count": 5,
   "id": "d75c4b9e",
   "metadata": {},
   "outputs": [
    {
     "data": {
      "text/html": [
       "<div>\n",
       "<style scoped>\n",
       "    .dataframe tbody tr th:only-of-type {\n",
       "        vertical-align: middle;\n",
       "    }\n",
       "\n",
       "    .dataframe tbody tr th {\n",
       "        vertical-align: top;\n",
       "    }\n",
       "\n",
       "    .dataframe thead th {\n",
       "        text-align: right;\n",
       "    }\n",
       "</style>\n",
       "<table border=\"1\" class=\"dataframe\">\n",
       "  <thead>\n",
       "    <tr style=\"text-align: right;\">\n",
       "      <th></th>\n",
       "      <th>SeNo</th>\n",
       "      <th>Cement</th>\n",
       "      <th>Sand</th>\n",
       "      <th>Aggregate</th>\n",
       "      <th>Total Weight</th>\n",
       "      <th>water</th>\n",
       "      <th>Unit</th>\n",
       "      <th>final Weight</th>\n",
       "      <th>time</th>\n",
       "      <th>rotation</th>\n",
       "    </tr>\n",
       "  </thead>\n",
       "  <tbody>\n",
       "    <tr>\n",
       "      <th>0</th>\n",
       "      <td>1</td>\n",
       "      <td>1</td>\n",
       "      <td>1.5</td>\n",
       "      <td>3</td>\n",
       "      <td>5.5</td>\n",
       "      <td>1.375</td>\n",
       "      <td>0</td>\n",
       "      <td>6.875</td>\n",
       "      <td>2.5</td>\n",
       "      <td>60.0</td>\n",
       "    </tr>\n",
       "    <tr>\n",
       "      <th>1</th>\n",
       "      <td>2</td>\n",
       "      <td>2</td>\n",
       "      <td>3.0</td>\n",
       "      <td>6</td>\n",
       "      <td>11.0</td>\n",
       "      <td>2.750</td>\n",
       "      <td>0</td>\n",
       "      <td>13.750</td>\n",
       "      <td>3.0</td>\n",
       "      <td>72.0</td>\n",
       "    </tr>\n",
       "    <tr>\n",
       "      <th>2</th>\n",
       "      <td>3</td>\n",
       "      <td>3</td>\n",
       "      <td>4.5</td>\n",
       "      <td>9</td>\n",
       "      <td>16.5</td>\n",
       "      <td>4.125</td>\n",
       "      <td>0</td>\n",
       "      <td>20.625</td>\n",
       "      <td>3.5</td>\n",
       "      <td>84.0</td>\n",
       "    </tr>\n",
       "    <tr>\n",
       "      <th>3</th>\n",
       "      <td>4</td>\n",
       "      <td>4</td>\n",
       "      <td>6.0</td>\n",
       "      <td>12</td>\n",
       "      <td>22.0</td>\n",
       "      <td>5.500</td>\n",
       "      <td>0</td>\n",
       "      <td>27.500</td>\n",
       "      <td>4.0</td>\n",
       "      <td>96.0</td>\n",
       "    </tr>\n",
       "    <tr>\n",
       "      <th>4</th>\n",
       "      <td>5</td>\n",
       "      <td>5</td>\n",
       "      <td>7.5</td>\n",
       "      <td>15</td>\n",
       "      <td>27.5</td>\n",
       "      <td>6.875</td>\n",
       "      <td>0</td>\n",
       "      <td>34.375</td>\n",
       "      <td>4.0</td>\n",
       "      <td>96.0</td>\n",
       "    </tr>\n",
       "    <tr>\n",
       "      <th>...</th>\n",
       "      <td>...</td>\n",
       "      <td>...</td>\n",
       "      <td>...</td>\n",
       "      <td>...</td>\n",
       "      <td>...</td>\n",
       "      <td>...</td>\n",
       "      <td>...</td>\n",
       "      <td>...</td>\n",
       "      <td>...</td>\n",
       "      <td>...</td>\n",
       "    </tr>\n",
       "    <tr>\n",
       "      <th>94</th>\n",
       "      <td>96</td>\n",
       "      <td>96</td>\n",
       "      <td>144.0</td>\n",
       "      <td>288</td>\n",
       "      <td>528.0</td>\n",
       "      <td>132.000</td>\n",
       "      <td>0</td>\n",
       "      <td>660.000</td>\n",
       "      <td>26.0</td>\n",
       "      <td>624.0</td>\n",
       "    </tr>\n",
       "    <tr>\n",
       "      <th>95</th>\n",
       "      <td>97</td>\n",
       "      <td>97</td>\n",
       "      <td>145.5</td>\n",
       "      <td>291</td>\n",
       "      <td>533.5</td>\n",
       "      <td>133.375</td>\n",
       "      <td>0</td>\n",
       "      <td>666.875</td>\n",
       "      <td>26.0</td>\n",
       "      <td>624.0</td>\n",
       "    </tr>\n",
       "    <tr>\n",
       "      <th>96</th>\n",
       "      <td>98</td>\n",
       "      <td>98</td>\n",
       "      <td>147.0</td>\n",
       "      <td>294</td>\n",
       "      <td>539.0</td>\n",
       "      <td>134.750</td>\n",
       "      <td>0</td>\n",
       "      <td>673.750</td>\n",
       "      <td>26.0</td>\n",
       "      <td>624.0</td>\n",
       "    </tr>\n",
       "    <tr>\n",
       "      <th>97</th>\n",
       "      <td>99</td>\n",
       "      <td>99</td>\n",
       "      <td>148.5</td>\n",
       "      <td>297</td>\n",
       "      <td>544.5</td>\n",
       "      <td>136.125</td>\n",
       "      <td>0</td>\n",
       "      <td>680.625</td>\n",
       "      <td>26.0</td>\n",
       "      <td>624.0</td>\n",
       "    </tr>\n",
       "    <tr>\n",
       "      <th>98</th>\n",
       "      <td>100</td>\n",
       "      <td>100</td>\n",
       "      <td>150.0</td>\n",
       "      <td>300</td>\n",
       "      <td>550.0</td>\n",
       "      <td>137.500</td>\n",
       "      <td>0</td>\n",
       "      <td>687.500</td>\n",
       "      <td>26.0</td>\n",
       "      <td>624.0</td>\n",
       "    </tr>\n",
       "  </tbody>\n",
       "</table>\n",
       "<p>99 rows × 10 columns</p>\n",
       "</div>"
      ],
      "text/plain": [
       "    SeNo  Cement   Sand  Aggregate  Total Weight    water  Unit  final Weight  \\\n",
       "0      1       1    1.5          3           5.5    1.375     0         6.875   \n",
       "1      2       2    3.0          6          11.0    2.750     0        13.750   \n",
       "2      3       3    4.5          9          16.5    4.125     0        20.625   \n",
       "3      4       4    6.0         12          22.0    5.500     0        27.500   \n",
       "4      5       5    7.5         15          27.5    6.875     0        34.375   \n",
       "..   ...     ...    ...        ...           ...      ...   ...           ...   \n",
       "94    96      96  144.0        288         528.0  132.000     0       660.000   \n",
       "95    97      97  145.5        291         533.5  133.375     0       666.875   \n",
       "96    98      98  147.0        294         539.0  134.750     0       673.750   \n",
       "97    99      99  148.5        297         544.5  136.125     0       680.625   \n",
       "98   100     100  150.0        300         550.0  137.500     0       687.500   \n",
       "\n",
       "    time  rotation  \n",
       "0    2.5      60.0  \n",
       "1    3.0      72.0  \n",
       "2    3.5      84.0  \n",
       "3    4.0      96.0  \n",
       "4    4.0      96.0  \n",
       "..   ...       ...  \n",
       "94  26.0     624.0  \n",
       "95  26.0     624.0  \n",
       "96  26.0     624.0  \n",
       "97  26.0     624.0  \n",
       "98  26.0     624.0  \n",
       "\n",
       "[99 rows x 10 columns]"
      ]
     },
     "execution_count": 5,
     "metadata": {},
     "output_type": "execute_result"
    }
   ],
   "source": [
    "d"
   ]
  },
  {
   "cell_type": "code",
   "execution_count": 6,
   "id": "16717827",
   "metadata": {},
   "outputs": [
    {
     "data": {
      "text/plain": [
       "SeNo            0\n",
       "Cement          0\n",
       "Sand            0\n",
       "Aggregate       0\n",
       "Total Weight    0\n",
       "water           0\n",
       "Unit            0\n",
       "final Weight    0\n",
       "time            0\n",
       "rotation        0\n",
       "dtype: int64"
      ]
     },
     "execution_count": 6,
     "metadata": {},
     "output_type": "execute_result"
    }
   ],
   "source": [
    "d.isnull().sum()"
   ]
  },
  {
   "cell_type": "code",
   "execution_count": 7,
   "id": "311cb9f3",
   "metadata": {},
   "outputs": [
    {
     "data": {
      "text/html": [
       "<div>\n",
       "<style scoped>\n",
       "    .dataframe tbody tr th:only-of-type {\n",
       "        vertical-align: middle;\n",
       "    }\n",
       "\n",
       "    .dataframe tbody tr th {\n",
       "        vertical-align: top;\n",
       "    }\n",
       "\n",
       "    .dataframe thead th {\n",
       "        text-align: right;\n",
       "    }\n",
       "</style>\n",
       "<table border=\"1\" class=\"dataframe\">\n",
       "  <thead>\n",
       "    <tr style=\"text-align: right;\">\n",
       "      <th></th>\n",
       "      <th>SeNo</th>\n",
       "      <th>Cement</th>\n",
       "      <th>Sand</th>\n",
       "      <th>Aggregate</th>\n",
       "      <th>Total Weight</th>\n",
       "      <th>water</th>\n",
       "      <th>Unit</th>\n",
       "      <th>final Weight</th>\n",
       "      <th>time</th>\n",
       "    </tr>\n",
       "  </thead>\n",
       "  <tbody>\n",
       "    <tr>\n",
       "      <th>0</th>\n",
       "      <td>1</td>\n",
       "      <td>1</td>\n",
       "      <td>1.5</td>\n",
       "      <td>3</td>\n",
       "      <td>5.5</td>\n",
       "      <td>1.375</td>\n",
       "      <td>0</td>\n",
       "      <td>6.875</td>\n",
       "      <td>2.5</td>\n",
       "    </tr>\n",
       "    <tr>\n",
       "      <th>1</th>\n",
       "      <td>2</td>\n",
       "      <td>2</td>\n",
       "      <td>3.0</td>\n",
       "      <td>6</td>\n",
       "      <td>11.0</td>\n",
       "      <td>2.750</td>\n",
       "      <td>0</td>\n",
       "      <td>13.750</td>\n",
       "      <td>3.0</td>\n",
       "    </tr>\n",
       "    <tr>\n",
       "      <th>2</th>\n",
       "      <td>3</td>\n",
       "      <td>3</td>\n",
       "      <td>4.5</td>\n",
       "      <td>9</td>\n",
       "      <td>16.5</td>\n",
       "      <td>4.125</td>\n",
       "      <td>0</td>\n",
       "      <td>20.625</td>\n",
       "      <td>3.5</td>\n",
       "    </tr>\n",
       "    <tr>\n",
       "      <th>3</th>\n",
       "      <td>4</td>\n",
       "      <td>4</td>\n",
       "      <td>6.0</td>\n",
       "      <td>12</td>\n",
       "      <td>22.0</td>\n",
       "      <td>5.500</td>\n",
       "      <td>0</td>\n",
       "      <td>27.500</td>\n",
       "      <td>4.0</td>\n",
       "    </tr>\n",
       "    <tr>\n",
       "      <th>4</th>\n",
       "      <td>5</td>\n",
       "      <td>5</td>\n",
       "      <td>7.5</td>\n",
       "      <td>15</td>\n",
       "      <td>27.5</td>\n",
       "      <td>6.875</td>\n",
       "      <td>0</td>\n",
       "      <td>34.375</td>\n",
       "      <td>4.0</td>\n",
       "    </tr>\n",
       "    <tr>\n",
       "      <th>...</th>\n",
       "      <td>...</td>\n",
       "      <td>...</td>\n",
       "      <td>...</td>\n",
       "      <td>...</td>\n",
       "      <td>...</td>\n",
       "      <td>...</td>\n",
       "      <td>...</td>\n",
       "      <td>...</td>\n",
       "      <td>...</td>\n",
       "    </tr>\n",
       "    <tr>\n",
       "      <th>94</th>\n",
       "      <td>96</td>\n",
       "      <td>96</td>\n",
       "      <td>144.0</td>\n",
       "      <td>288</td>\n",
       "      <td>528.0</td>\n",
       "      <td>132.000</td>\n",
       "      <td>0</td>\n",
       "      <td>660.000</td>\n",
       "      <td>26.0</td>\n",
       "    </tr>\n",
       "    <tr>\n",
       "      <th>95</th>\n",
       "      <td>97</td>\n",
       "      <td>97</td>\n",
       "      <td>145.5</td>\n",
       "      <td>291</td>\n",
       "      <td>533.5</td>\n",
       "      <td>133.375</td>\n",
       "      <td>0</td>\n",
       "      <td>666.875</td>\n",
       "      <td>26.0</td>\n",
       "    </tr>\n",
       "    <tr>\n",
       "      <th>96</th>\n",
       "      <td>98</td>\n",
       "      <td>98</td>\n",
       "      <td>147.0</td>\n",
       "      <td>294</td>\n",
       "      <td>539.0</td>\n",
       "      <td>134.750</td>\n",
       "      <td>0</td>\n",
       "      <td>673.750</td>\n",
       "      <td>26.0</td>\n",
       "    </tr>\n",
       "    <tr>\n",
       "      <th>97</th>\n",
       "      <td>99</td>\n",
       "      <td>99</td>\n",
       "      <td>148.5</td>\n",
       "      <td>297</td>\n",
       "      <td>544.5</td>\n",
       "      <td>136.125</td>\n",
       "      <td>0</td>\n",
       "      <td>680.625</td>\n",
       "      <td>26.0</td>\n",
       "    </tr>\n",
       "    <tr>\n",
       "      <th>98</th>\n",
       "      <td>100</td>\n",
       "      <td>100</td>\n",
       "      <td>150.0</td>\n",
       "      <td>300</td>\n",
       "      <td>550.0</td>\n",
       "      <td>137.500</td>\n",
       "      <td>0</td>\n",
       "      <td>687.500</td>\n",
       "      <td>26.0</td>\n",
       "    </tr>\n",
       "  </tbody>\n",
       "</table>\n",
       "<p>99 rows × 9 columns</p>\n",
       "</div>"
      ],
      "text/plain": [
       "    SeNo  Cement   Sand  Aggregate  Total Weight    water  Unit  final Weight  \\\n",
       "0      1       1    1.5          3           5.5    1.375     0         6.875   \n",
       "1      2       2    3.0          6          11.0    2.750     0        13.750   \n",
       "2      3       3    4.5          9          16.5    4.125     0        20.625   \n",
       "3      4       4    6.0         12          22.0    5.500     0        27.500   \n",
       "4      5       5    7.5         15          27.5    6.875     0        34.375   \n",
       "..   ...     ...    ...        ...           ...      ...   ...           ...   \n",
       "94    96      96  144.0        288         528.0  132.000     0       660.000   \n",
       "95    97      97  145.5        291         533.5  133.375     0       666.875   \n",
       "96    98      98  147.0        294         539.0  134.750     0       673.750   \n",
       "97    99      99  148.5        297         544.5  136.125     0       680.625   \n",
       "98   100     100  150.0        300         550.0  137.500     0       687.500   \n",
       "\n",
       "    time  \n",
       "0    2.5  \n",
       "1    3.0  \n",
       "2    3.5  \n",
       "3    4.0  \n",
       "4    4.0  \n",
       "..   ...  \n",
       "94  26.0  \n",
       "95  26.0  \n",
       "96  26.0  \n",
       "97  26.0  \n",
       "98  26.0  \n",
       "\n",
       "[99 rows x 9 columns]"
      ]
     },
     "execution_count": 7,
     "metadata": {},
     "output_type": "execute_result"
    }
   ],
   "source": [
    "X=d.drop(columns='rotation')\n",
    "X"
   ]
  },
  {
   "cell_type": "code",
   "execution_count": 8,
   "id": "b1c948d3",
   "metadata": {},
   "outputs": [
    {
     "data": {
      "text/plain": [
       "0      60.0\n",
       "1      72.0\n",
       "2      84.0\n",
       "3      96.0\n",
       "4      96.0\n",
       "      ...  \n",
       "94    624.0\n",
       "95    624.0\n",
       "96    624.0\n",
       "97    624.0\n",
       "98    624.0\n",
       "Name: rotation, Length: 99, dtype: float64"
      ]
     },
     "execution_count": 8,
     "metadata": {},
     "output_type": "execute_result"
    }
   ],
   "source": [
    "y=d['rotation']\n",
    "y"
   ]
  },
  {
   "cell_type": "code",
   "execution_count": 10,
   "id": "fd229048",
   "metadata": {},
   "outputs": [],
   "source": [
    "from sklearn.model_selection import train_test_split\n",
    "X_train, X_test ,y_train , y_test= train_test_split(X,y ,test_size=0.3,random_state=0)"
   ]
  },
  {
   "cell_type": "code",
   "execution_count": 11,
   "id": "a112ee94",
   "metadata": {},
   "outputs": [],
   "source": [
    "from sklearn.linear_model import LinearRegression\n",
    "lr=LinearRegression()"
   ]
  },
  {
   "cell_type": "code",
   "execution_count": 12,
   "id": "c4693f92",
   "metadata": {},
   "outputs": [
    {
     "data": {
      "text/plain": [
       "LinearRegression()"
      ]
     },
     "execution_count": 12,
     "metadata": {},
     "output_type": "execute_result"
    }
   ],
   "source": [
    "lr.fit(X_train ,y_train)"
   ]
  },
  {
   "cell_type": "code",
   "execution_count": 14,
   "id": "dace8064",
   "metadata": {},
   "outputs": [
    {
     "data": {
      "text/plain": [
       "5.684341886080802e-14"
      ]
     },
     "execution_count": 14,
     "metadata": {},
     "output_type": "execute_result"
    }
   ],
   "source": [
    "c=lr.intercept_\n",
    "c"
   ]
  },
  {
   "cell_type": "markdown",
   "id": "53a4e6c1",
   "metadata": {},
   "source": [
    "m=lr.coefficient\n",
    "m"
   ]
  },
  {
   "cell_type": "code",
   "execution_count": 16,
   "id": "f2cc7e30",
   "metadata": {},
   "outputs": [
    {
     "data": {
      "text/plain": [
       "array([ 1.89583109e-15, -5.66213743e-15,  1.85962357e-15,  4.32986980e-15,\n",
       "       -2.88102875e-14, -7.20257187e-15,  0.00000000e+00,  2.25375274e-14,\n",
       "        2.40000000e+01])"
      ]
     },
     "execution_count": 16,
     "metadata": {},
     "output_type": "execute_result"
    }
   ],
   "source": [
    "m=lr.coef_\n",
    "m"
   ]
  },
  {
   "cell_type": "code",
   "execution_count": 17,
   "id": "47ca1fde",
   "metadata": {},
   "outputs": [],
   "source": [
    "y_pred_train=lr.predict(X_train)"
   ]
  },
  {
   "cell_type": "code",
   "execution_count": 18,
   "id": "2d06013d",
   "metadata": {},
   "outputs": [
    {
     "data": {
      "text/plain": [
       "array([576. , 624. , 624. , 624. , 528. , 391.2, 297.6, 564. , 600. ,\n",
       "       624. ,  72. , 600. , 460.8, 460.8,  96. , 240. , 297.6, 460.8,\n",
       "       444. , 108. , 624. , 576. ,  60. , 444. , 391.2, 528. , 192. ,\n",
       "       444. , 336. , 552. , 192. , 420. , 624. , 564. , 624. , 624. ,\n",
       "       420. , 624. , 240. , 624. , 297.6, 420. , 528. , 624. , 624. ,\n",
       "       624. , 297.6, 624. , 624. , 624. , 391.2, 444. , 624. , 504. ,\n",
       "       460.8, 600. , 576. , 192. , 624. , 624. , 444. , 336. , 624. ,\n",
       "       168. , 624. , 624. , 600. , 504. , 504. ])"
      ]
     },
     "execution_count": 18,
     "metadata": {},
     "output_type": "execute_result"
    }
   ],
   "source": [
    "y_pred_train"
   ]
  },
  {
   "cell_type": "code",
   "execution_count": 20,
   "id": "df102e48",
   "metadata": {},
   "outputs": [
    {
     "data": {
      "image/png": "[encoded data removed]",
      "text/plain": [
       "<Figure size 640x480 with 1 Axes>"
      ]
     },
     "metadata": {},
     "output_type": "display_data"
    }
   ],
   "source": [
    "import matplotlib.pyplot as plt\n",
    "plt.scatter(y_train , y_pred_train)\n",
    "plt.xlabel(\"Actual Rotation\")\n",
    "plt.ylabel(\"Predicted Rotation\")\n",
    "plt.show()\n"
   ]
  },
  {
   "cell_type": "code",
   "execution_count": 21,
   "id": "655b2347",
   "metadata": {},
   "outputs": [],
   "source": [
    "from sklearn.metrics import r2_score"
   ]
  },
  {
   "cell_type": "code",
   "execution_count": 22,
   "id": "5a23bead",
   "metadata": {},
   "outputs": [
    {
     "data": {
      "text/plain": [
       "1.0"
      ]
     },
     "execution_count": 22,
     "metadata": {},
     "output_type": "execute_result"
    }
   ],
   "source": [
    "r2_score(y_train, y_pred_train)"
   ]
  },
  {
   "cell_type": "code",
   "execution_count": 23,
   "id": "1b8cd98d",
   "metadata": {},
   "outputs": [],
   "source": [
    "y_pred_test=lr.predict(X_test)"
   ]
  },
  {
   "cell_type": "code",
   "execution_count": 24,
   "id": "133a9f8c",
   "metadata": {},
   "outputs": [
    {
     "data": {
      "image/png": "[encoded data removed]",
      "text/plain": [
       "<Figure size 640x480 with 1 Axes>"
      ]
     },
     "metadata": {},
     "output_type": "display_data"
    }
   ],
   "source": [
    "import matplotlib.pyplot as plt\n",
    "plt.scatter(y_test , y_pred_test)\n",
    "plt.xlabel(\"Actual Rotation\")\n",
    "plt.ylabel(\"Predicted Rotation\")\n",
    "plt.show()"
   ]
  },
  {
   "cell_type": "code",
   "execution_count": 25,
   "id": "274b192f",
   "metadata": {},
   "outputs": [
    {
     "data": {
      "text/plain": [
       "1.0"
      ]
     },
     "execution_count": 25,
     "metadata": {},
     "output_type": "execute_result"
    }
   ],
   "source": [
    "r2_score(y_test, y_pred_test)"
   ]
  },
  {
   "cell_type": "code",
   "execution_count": null,
   "id": "f65a734d",
   "metadata": {},
   "outputs": [],
   "source": []
  }
 ],
 "metadata": {
  "kernelspec": {
   "display_name": "Python 3 (ipykernel)",
   "language": "python",
   "name": "python3"
  },
  "language_info": {
   "codemirror_mode": {
    "name": "ipython",
    "version": 3
   },
   "file_extension": ".py",
   "mimetype": "text/x-python",
   "name": "python",
   "nbconvert_exporter": "python",
   "pygments_lexer": "ipython3",
   "version": "3.9.13"
  }
 },
 "nbformat": 4,
 "nbformat_minor": 5
}
